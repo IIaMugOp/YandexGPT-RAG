{
 "cells": [
  {
   "cell_type": "code",
   "execution_count": null,
   "metadata": {},
   "outputs": [],
   "source": [
    "from langchain.embeddings.base import Embeddings\n",
    "import requests\n",
    "import langchain\n",
    "\n",
    "class YandexEmbeddings(Embeddings):\n",
    "    def __init__(self, api_key=None, folder_id=None):\n",
    "        self.api_key = api_key\n",
    "        self.folder_id = folder_id\n",
    "        self.headers = {'Authorization': 'Api-key ' + self.api_key,\n",
    "                             \"x-folder-id\" : self.folder_id }\n",
    "        self.doc_uri = f\"emb://{self.folder_id}/text-search-doc/latest\"\n",
    "        self.query_uri = f\"emb://{self.folder_id}/text-search-query/latest\"\n",
    "        self.embed_url = \"https://llm.api.cloud.yandex.net:443/foundationModels/v1/textEmbedding\"\n",
    "\n",
    "\n",
    "    def embed_documents(self, text):\n",
    "        json = {\n",
    "            \"modelUri\": self.doc_uri,\n",
    "            \"text\": text\n",
    "        }\n",
    "        vec = requests.post(self.embed_url, json=json, headers=self.headers)\n",
    "        return vec.text\n",
    "    def embed_query(self, text):\n",
    "        json = {\n",
    "            \"modelUri\": self.query_uri,\n",
    "            \"text\": text\n",
    "        }\n",
    "        vec = requests.post(self.embed_url, json=json, headers=self.headers)\n",
    "        return vec.text"
   ]
  }
 ],
 "metadata": {
  "language_info": {
   "name": "python"
  }
 },
 "nbformat": 4,
 "nbformat_minor": 2
}
