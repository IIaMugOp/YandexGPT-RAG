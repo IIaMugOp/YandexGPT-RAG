{
 "cells": [
  {
   "cell_type": "code",
   "execution_count": 27,
   "metadata": {},
   "outputs": [
    {
     "name": "stdout",
     "output_type": "stream",
     "text": [
      "c:\\LLM\n",
      "Requirement already satisfied: openai in c:\\python etc\\lib\\site-packages (from -r require.txt (line 1)) (1.40.1)\n",
      "Requirement already satisfied: python-dotenv in c:\\python etc\\lib\\site-packages (from -r require.txt (line 2)) (1.0.1)\n",
      "Requirement already satisfied: chromadb in c:\\python etc\\lib\\site-packages (from -r require.txt (line 3)) (0.4.24)\n",
      "Requirement already satisfied: langchain-chroma==0.1.0 in c:\\python etc\\lib\\site-packages (from -r require.txt (line 4)) (0.1.0)\n",
      "Requirement already satisfied: langchain==0.1.12 in c:\\python etc\\lib\\site-packages (from -r require.txt (line 5)) (0.1.12)\n",
      "Requirement already satisfied: langchain-core<0.2.0,>=0.1.40 in c:\\python etc\\lib\\site-packages (from langchain-chroma==0.1.0->-r require.txt (line 4)) (0.1.52)\n",
      "Requirement already satisfied: numpy<2,>=1 in c:\\python etc\\lib\\site-packages (from langchain-chroma==0.1.0->-r require.txt (line 4)) (1.26.4)\n",
      "Requirement already satisfied: fastapi<1,>=0.95.2 in c:\\python etc\\lib\\site-packages (from langchain-chroma==0.1.0->-r require.txt (line 4)) (0.112.0)\n",
      "Requirement already satisfied: langchain-text-splitters<0.1,>=0.0.1 in c:\\python etc\\lib\\site-packages (from langchain==0.1.12->-r require.txt (line 5)) (0.0.2)\n",
      "Requirement already satisfied: pydantic<3,>=1 in c:\\python etc\\lib\\site-packages (from langchain==0.1.12->-r require.txt (line 5)) (2.5.3)\n",
      "Requirement already satisfied: requests<3,>=2 in c:\\python etc\\lib\\site-packages (from langchain==0.1.12->-r require.txt (line 5)) (2.28.1)\n",
      "Requirement already satisfied: aiohttp<4.0.0,>=3.8.3 in c:\\python etc\\lib\\site-packages (from langchain==0.1.12->-r require.txt (line 5)) (3.8.6)\n",
      "Requirement already satisfied: SQLAlchemy<3,>=1.4 in c:\\python etc\\lib\\site-packages (from langchain==0.1.12->-r require.txt (line 5)) (1.4.49)\n",
      "Requirement already satisfied: dataclasses-json<0.7,>=0.5.7 in c:\\python etc\\lib\\site-packages (from langchain==0.1.12->-r require.txt (line 5)) (0.6.7)\n",
      "Requirement already satisfied: langsmith<0.2.0,>=0.1.17 in c:\\python etc\\lib\\site-packages (from langchain==0.1.12->-r require.txt (line 5)) (0.1.98)\n",
      "Requirement already satisfied: langchain-community<0.1,>=0.0.28 in c:\\python etc\\lib\\site-packages (from langchain==0.1.12->-r require.txt (line 5)) (0.0.38)\n",
      "Requirement already satisfied: tenacity<9.0.0,>=8.1.0 in c:\\python etc\\lib\\site-packages (from langchain==0.1.12->-r require.txt (line 5)) (8.5.0)\n",
      "Requirement already satisfied: async-timeout<5.0.0,>=4.0.0 in c:\\python etc\\lib\\site-packages (from langchain==0.1.12->-r require.txt (line 5)) (4.0.3)\n",
      "Requirement already satisfied: PyYAML>=5.3 in c:\\python etc\\lib\\site-packages (from langchain==0.1.12->-r require.txt (line 5)) (6.0)\n",
      "Requirement already satisfied: jsonpatch<2.0,>=1.33 in c:\\python etc\\lib\\site-packages (from langchain==0.1.12->-r require.txt (line 5)) (1.33)\n",
      "Requirement already satisfied: httpx<1,>=0.23.0 in c:\\python etc\\lib\\site-packages (from openai->-r require.txt (line 1)) (0.27.0)\n",
      "Requirement already satisfied: anyio<5,>=3.5.0 in c:\\python etc\\lib\\site-packages (from openai->-r require.txt (line 1)) (3.5.0)\n",
      "Requirement already satisfied: sniffio in c:\\python etc\\lib\\site-packages (from openai->-r require.txt (line 1)) (1.2.0)\n",
      "Requirement already satisfied: jiter<1,>=0.4.0 in c:\\python etc\\lib\\site-packages (from openai->-r require.txt (line 1)) (0.5.0)\n",
      "Requirement already satisfied: distro<2,>=1.7.0 in c:\\python etc\\lib\\site-packages (from openai->-r require.txt (line 1)) (1.9.0)\n",
      "Requirement already satisfied: typing-extensions<5,>=4.11 in c:\\python etc\\lib\\site-packages (from openai->-r require.txt (line 1)) (4.12.2)\n",
      "Requirement already satisfied: tqdm>4 in c:\\python etc\\lib\\site-packages (from openai->-r require.txt (line 1)) (4.66.5)\n",
      "Requirement already satisfied: kubernetes>=28.1.0 in c:\\python etc\\lib\\site-packages (from chromadb->-r require.txt (line 3)) (30.1.0)\n",
      "Requirement already satisfied: bcrypt>=4.0.1 in c:\\python etc\\lib\\site-packages (from chromadb->-r require.txt (line 3)) (4.2.0)\n",
      "Requirement already satisfied: typer>=0.9.0 in c:\\python etc\\lib\\site-packages (from chromadb->-r require.txt (line 3)) (0.12.3)\n",
      "Requirement already satisfied: chroma-hnswlib==0.7.3 in c:\\python etc\\lib\\site-packages (from chromadb->-r require.txt (line 3)) (0.7.3)\n",
      "Requirement already satisfied: opentelemetry-sdk>=1.2.0 in c:\\python etc\\lib\\site-packages (from chromadb->-r require.txt (line 3)) (1.26.0)\n",
      "Requirement already satisfied: onnxruntime>=1.14.1 in c:\\python etc\\lib\\site-packages (from chromadb->-r require.txt (line 3)) (1.18.1)\n",
      "Requirement already satisfied: importlib-resources in c:\\python etc\\lib\\site-packages (from chromadb->-r require.txt (line 3)) (6.4.0)\n",
      "Requirement already satisfied: mmh3>=4.0.1 in c:\\python etc\\lib\\site-packages (from chromadb->-r require.txt (line 3)) (4.1.0)\n",
      "Requirement already satisfied: pulsar-client>=3.1.0 in c:\\python etc\\lib\\site-packages (from chromadb->-r require.txt (line 3)) (3.5.0)\n",
      "Requirement already satisfied: opentelemetry-exporter-otlp-proto-grpc>=1.2.0 in c:\\python etc\\lib\\site-packages (from chromadb->-r require.txt (line 3)) (1.26.0)\n",
      "Requirement already satisfied: orjson>=3.9.12 in c:\\python etc\\lib\\site-packages (from chromadb->-r require.txt (line 3)) (3.10.6)\n",
      "Requirement already satisfied: grpcio>=1.58.0 in c:\\python etc\\lib\\site-packages (from chromadb->-r require.txt (line 3)) (1.65.4)\n",
      "Requirement already satisfied: uvicorn[standard]>=0.18.3 in c:\\python etc\\lib\\site-packages (from chromadb->-r require.txt (line 3)) (0.30.5)\n",
      "Requirement already satisfied: overrides>=7.3.1 in c:\\python etc\\lib\\site-packages (from chromadb->-r require.txt (line 3)) (7.7.0)\n",
      "Requirement already satisfied: opentelemetry-api>=1.2.0 in c:\\python etc\\lib\\site-packages (from chromadb->-r require.txt (line 3)) (1.26.0)\n",
      "Requirement already satisfied: tokenizers>=0.13.2 in c:\\python etc\\lib\\site-packages (from chromadb->-r require.txt (line 3)) (0.20.0)\n",
      "Requirement already satisfied: opentelemetry-instrumentation-fastapi>=0.41b0 in c:\\python etc\\lib\\site-packages (from chromadb->-r require.txt (line 3)) (0.47b0)\n",
      "Requirement already satisfied: build>=1.0.3 in c:\\python etc\\lib\\site-packages (from chromadb->-r require.txt (line 3)) (1.2.1)\n",
      "Requirement already satisfied: posthog>=2.4.0 in c:\\python etc\\lib\\site-packages (from chromadb->-r require.txt (line 3)) (3.5.0)\n",
      "Requirement already satisfied: pypika>=0.48.9 in c:\\python etc\\lib\\site-packages (from chromadb->-r require.txt (line 3)) (0.48.9)\n",
      "Requirement already satisfied: aiosignal>=1.1.2 in c:\\python etc\\lib\\site-packages (from aiohttp<4.0.0,>=3.8.3->langchain==0.1.12->-r require.txt (line 5)) (1.3.1)\n",
      "Requirement already satisfied: yarl<2.0,>=1.0 in c:\\python etc\\lib\\site-packages (from aiohttp<4.0.0,>=3.8.3->langchain==0.1.12->-r require.txt (line 5)) (1.9.4)\n",
      "Requirement already satisfied: frozenlist>=1.1.1 in c:\\python etc\\lib\\site-packages (from aiohttp<4.0.0,>=3.8.3->langchain==0.1.12->-r require.txt (line 5)) (1.4.1)\n",
      "Requirement already satisfied: charset-normalizer<4.0,>=2.0 in c:\\python etc\\lib\\site-packages (from aiohttp<4.0.0,>=3.8.3->langchain==0.1.12->-r require.txt (line 5)) (2.0.4)\n",
      "Requirement already satisfied: attrs>=17.3.0 in c:\\python etc\\lib\\site-packages (from aiohttp<4.0.0,>=3.8.3->langchain==0.1.12->-r require.txt (line 5)) (21.4.0)\n",
      "Requirement already satisfied: multidict<7.0,>=4.5 in c:\\python etc\\lib\\site-packages (from aiohttp<4.0.0,>=3.8.3->langchain==0.1.12->-r require.txt (line 5)) (6.0.4)\n",
      "Requirement already satisfied: idna>=2.8 in c:\\python etc\\lib\\site-packages (from anyio<5,>=3.5.0->openai->-r require.txt (line 1)) (3.3)\n",
      "Requirement already satisfied: importlib-metadata>=4.6 in c:\\python etc\\lib\\site-packages (from build>=1.0.3->chromadb->-r require.txt (line 3)) (8.0.0)\n",
      "Requirement already satisfied: tomli>=1.1.0 in c:\\python etc\\lib\\site-packages (from build>=1.0.3->chromadb->-r require.txt (line 3)) (2.0.1)\n",
      "Requirement already satisfied: pyproject_hooks in c:\\python etc\\lib\\site-packages (from build>=1.0.3->chromadb->-r require.txt (line 3)) (1.1.0)\n",
      "Requirement already satisfied: packaging>=19.1 in c:\\python etc\\lib\\site-packages (from build>=1.0.3->chromadb->-r require.txt (line 3)) (23.2)\n",
      "Requirement already satisfied: colorama in c:\\python etc\\lib\\site-packages (from build>=1.0.3->chromadb->-r require.txt (line 3)) (0.4.5)\n",
      "Requirement already satisfied: typing-inspect<1,>=0.4.0 in c:\\python etc\\lib\\site-packages (from dataclasses-json<0.7,>=0.5.7->langchain==0.1.12->-r require.txt (line 5)) (0.9.0)\n",
      "Requirement already satisfied: marshmallow<4.0.0,>=3.18.0 in c:\\python etc\\lib\\site-packages (from dataclasses-json<0.7,>=0.5.7->langchain==0.1.12->-r require.txt (line 5)) (3.21.3)\n",
      "Requirement already satisfied: starlette<0.38.0,>=0.37.2 in c:\\python etc\\lib\\site-packages (from fastapi<1,>=0.95.2->langchain-chroma==0.1.0->-r require.txt (line 4)) (0.37.2)\n",
      "Requirement already satisfied: certifi in c:\\python etc\\lib\\site-packages (from httpx<1,>=0.23.0->openai->-r require.txt (line 1)) (2023.11.17)\n",
      "Requirement already satisfied: httpcore==1.* in c:\\python etc\\lib\\site-packages (from httpx<1,>=0.23.0->openai->-r require.txt (line 1)) (1.0.5)\n",
      "Requirement already satisfied: h11<0.15,>=0.13 in c:\\python etc\\lib\\site-packages (from httpcore==1.*->httpx<1,>=0.23.0->openai->-r require.txt (line 1)) (0.14.0)\n",
      "Requirement already satisfied: jsonpointer>=1.9 in c:\\python etc\\lib\\site-packages (from jsonpatch<2.0,>=1.33->langchain==0.1.12->-r require.txt (line 5)) (3.0.0)\n",
      "Requirement already satisfied: six>=1.9.0 in c:\\python etc\\lib\\site-packages (from kubernetes>=28.1.0->chromadb->-r require.txt (line 3)) (1.16.0)\n",
      "Requirement already satisfied: websocket-client!=0.40.0,!=0.41.*,!=0.42.*,>=0.32.0 in c:\\python etc\\lib\\site-packages (from kubernetes>=28.1.0->chromadb->-r require.txt (line 3)) (0.58.0)\n",
      "Requirement already satisfied: google-auth>=1.0.1 in c:\\python etc\\lib\\site-packages (from kubernetes>=28.1.0->chromadb->-r require.txt (line 3)) (2.33.0)\n",
      "Requirement already satisfied: urllib3>=1.24.2 in c:\\python etc\\lib\\site-packages (from kubernetes>=28.1.0->chromadb->-r require.txt (line 3)) (1.26.11)\n",
      "Requirement already satisfied: requests-oauthlib in c:\\python etc\\lib\\site-packages (from kubernetes>=28.1.0->chromadb->-r require.txt (line 3)) (2.0.0)\n",
      "Requirement already satisfied: python-dateutil>=2.5.3 in c:\\python etc\\lib\\site-packages (from kubernetes>=28.1.0->chromadb->-r require.txt (line 3)) (2.8.2)\n",
      "Requirement already satisfied: oauthlib>=3.2.2 in c:\\python etc\\lib\\site-packages (from kubernetes>=28.1.0->chromadb->-r require.txt (line 3)) (3.2.2)\n",
      "Requirement already satisfied: coloredlogs in c:\\python etc\\lib\\site-packages (from onnxruntime>=1.14.1->chromadb->-r require.txt (line 3)) (15.0.1)\n",
      "Requirement already satisfied: protobuf in c:\\python etc\\lib\\site-packages (from onnxruntime>=1.14.1->chromadb->-r require.txt (line 3)) (4.25.4)\n",
      "Requirement already satisfied: sympy in c:\\python etc\\lib\\site-packages (from onnxruntime>=1.14.1->chromadb->-r require.txt (line 3)) (1.10.1)\n",
      "Requirement already satisfied: flatbuffers in c:\\python etc\\lib\\site-packages (from onnxruntime>=1.14.1->chromadb->-r require.txt (line 3)) (24.3.25)\n",
      "Requirement already satisfied: deprecated>=1.2.6 in c:\\python etc\\lib\\site-packages (from opentelemetry-api>=1.2.0->chromadb->-r require.txt (line 3)) (1.2.14)\n",
      "Requirement already satisfied: opentelemetry-proto==1.26.0 in c:\\python etc\\lib\\site-packages (from opentelemetry-exporter-otlp-proto-grpc>=1.2.0->chromadb->-r require.txt (line 3)) (1.26.0)\n",
      "Requirement already satisfied: opentelemetry-exporter-otlp-proto-common==1.26.0 in c:\\python etc\\lib\\site-packages (from opentelemetry-exporter-otlp-proto-grpc>=1.2.0->chromadb->-r require.txt (line 3)) (1.26.0)\n",
      "Requirement already satisfied: googleapis-common-protos~=1.52 in c:\\python etc\\lib\\site-packages (from opentelemetry-exporter-otlp-proto-grpc>=1.2.0->chromadb->-r require.txt (line 3)) (1.63.2)\n",
      "Requirement already satisfied: opentelemetry-util-http==0.47b0 in c:\\python etc\\lib\\site-packages (from opentelemetry-instrumentation-fastapi>=0.41b0->chromadb->-r require.txt (line 3)) (0.47b0)\n",
      "Requirement already satisfied: opentelemetry-instrumentation-asgi==0.47b0 in c:\\python etc\\lib\\site-packages (from opentelemetry-instrumentation-fastapi>=0.41b0->chromadb->-r require.txt (line 3)) (0.47b0)\n",
      "Requirement already satisfied: opentelemetry-semantic-conventions==0.47b0 in c:\\python etc\\lib\\site-packages (from opentelemetry-instrumentation-fastapi>=0.41b0->chromadb->-r require.txt (line 3)) (0.47b0)\n",
      "Requirement already satisfied: opentelemetry-instrumentation==0.47b0 in c:\\python etc\\lib\\site-packages (from opentelemetry-instrumentation-fastapi>=0.41b0->chromadb->-r require.txt (line 3)) (0.47b0)\n",
      "Requirement already satisfied: setuptools>=16.0 in c:\\python etc\\lib\\site-packages (from opentelemetry-instrumentation==0.47b0->opentelemetry-instrumentation-fastapi>=0.41b0->chromadb->-r require.txt (line 3)) (72.1.0)\n",
      "Requirement already satisfied: wrapt<2.0.0,>=1.0.0 in c:\\python etc\\lib\\site-packages (from opentelemetry-instrumentation==0.47b0->opentelemetry-instrumentation-fastapi>=0.41b0->chromadb->-r require.txt (line 3)) (1.14.1)\n",
      "Requirement already satisfied: asgiref~=3.0 in c:\\python etc\\lib\\site-packages (from opentelemetry-instrumentation-asgi==0.47b0->opentelemetry-instrumentation-fastapi>=0.41b0->chromadb->-r require.txt (line 3)) (3.8.1)\n",
      "Requirement already satisfied: backoff>=1.10.0 in c:\\python etc\\lib\\site-packages (from posthog>=2.4.0->chromadb->-r require.txt (line 3)) (2.2.1)\n",
      "Requirement already satisfied: monotonic>=1.5 in c:\\python etc\\lib\\site-packages (from posthog>=2.4.0->chromadb->-r require.txt (line 3)) (1.6)\n",
      "Requirement already satisfied: annotated-types>=0.4.0 in c:\\python etc\\lib\\site-packages (from pydantic<3,>=1->langchain==0.1.12->-r require.txt (line 5)) (0.6.0)\n",
      "Requirement already satisfied: pydantic-core==2.14.6 in c:\\python etc\\lib\\site-packages (from pydantic<3,>=1->langchain==0.1.12->-r require.txt (line 5)) (2.14.6)\n",
      "Requirement already satisfied: greenlet!=0.4.17 in c:\\python etc\\lib\\site-packages (from SQLAlchemy<3,>=1.4->langchain==0.1.12->-r require.txt (line 5)) (1.1.1)\n",
      "Requirement already satisfied: huggingface-hub<1.0,>=0.16.4 in c:\\python etc\\lib\\site-packages (from tokenizers>=0.13.2->chromadb->-r require.txt (line 3)) (0.24.5)\n",
      "Requirement already satisfied: rich>=10.11.0 in c:\\python etc\\lib\\site-packages (from typer>=0.9.0->chromadb->-r require.txt (line 3)) (13.7.1)\n",
      "Requirement already satisfied: shellingham>=1.3.0 in c:\\python etc\\lib\\site-packages (from typer>=0.9.0->chromadb->-r require.txt (line 3)) (1.5.4)\n",
      "Requirement already satisfied: click>=8.0.0 in c:\\python etc\\lib\\site-packages (from typer>=0.9.0->chromadb->-r require.txt (line 3)) (8.0.4)\n",
      "Requirement already satisfied: websockets>=10.4 in c:\\python etc\\lib\\site-packages (from uvicorn[standard]>=0.18.3->chromadb->-r require.txt (line 3)) (12.0)\n",
      "Requirement already satisfied: httptools>=0.5.0 in c:\\python etc\\lib\\site-packages (from uvicorn[standard]>=0.18.3->chromadb->-r require.txt (line 3)) (0.6.1)\n",
      "Requirement already satisfied: watchfiles>=0.13 in c:\\python etc\\lib\\site-packages (from uvicorn[standard]>=0.18.3->chromadb->-r require.txt (line 3)) (0.23.0)\n",
      "Requirement already satisfied: zipp>=3.1.0 in c:\\python etc\\lib\\site-packages (from importlib-resources->chromadb->-r require.txt (line 3)) (3.8.0)\n",
      "Requirement already satisfied: pyasn1-modules>=0.2.1 in c:\\python etc\\lib\\site-packages (from google-auth>=1.0.1->kubernetes>=28.1.0->chromadb->-r require.txt (line 3)) (0.2.8)\n",
      "Requirement already satisfied: rsa<5,>=3.1.4 in c:\\python etc\\lib\\site-packages (from google-auth>=1.0.1->kubernetes>=28.1.0->chromadb->-r require.txt (line 3)) (4.9)\n",
      "Requirement already satisfied: cachetools<6.0,>=2.0.0 in c:\\python etc\\lib\\site-packages (from google-auth>=1.0.1->kubernetes>=28.1.0->chromadb->-r require.txt (line 3)) (5.4.0)\n",
      "Requirement already satisfied: filelock in c:\\python etc\\lib\\site-packages (from huggingface-hub<1.0,>=0.16.4->tokenizers>=0.13.2->chromadb->-r require.txt (line 3)) (3.15.4)\n",
      "Requirement already satisfied: fsspec>=2023.5.0 in c:\\python etc\\lib\\site-packages (from huggingface-hub<1.0,>=0.16.4->tokenizers>=0.13.2->chromadb->-r require.txt (line 3)) (2024.6.1)\n",
      "Requirement already satisfied: pygments<3.0.0,>=2.13.0 in c:\\python etc\\lib\\site-packages (from rich>=10.11.0->typer>=0.9.0->chromadb->-r require.txt (line 3)) (2.18.0)\n",
      "Requirement already satisfied: markdown-it-py>=2.2.0 in c:\\python etc\\lib\\site-packages (from rich>=10.11.0->typer>=0.9.0->chromadb->-r require.txt (line 3)) (3.0.0)\n",
      "Requirement already satisfied: mypy-extensions>=0.3.0 in c:\\python etc\\lib\\site-packages (from typing-inspect<1,>=0.4.0->dataclasses-json<0.7,>=0.5.7->langchain==0.1.12->-r require.txt (line 5)) (0.4.3)\n",
      "Requirement already satisfied: humanfriendly>=9.1 in c:\\python etc\\lib\\site-packages (from coloredlogs->onnxruntime>=1.14.1->chromadb->-r require.txt (line 3)) (10.0)\n",
      "Requirement already satisfied: mpmath>=0.19 in c:\\python etc\\lib\\site-packages (from sympy->onnxruntime>=1.14.1->chromadb->-r require.txt (line 3)) (1.2.1)\n",
      "Requirement already satisfied: pyreadline3 in c:\\python etc\\lib\\site-packages (from humanfriendly>=9.1->coloredlogs->onnxruntime>=1.14.1->chromadb->-r require.txt (line 3)) (3.4.1)\n",
      "Requirement already satisfied: mdurl~=0.1 in c:\\python etc\\lib\\site-packages (from markdown-it-py>=2.2.0->rich>=10.11.0->typer>=0.9.0->chromadb->-r require.txt (line 3)) (0.1.2)\n",
      "Requirement already satisfied: pyasn1<0.5.0,>=0.4.6 in c:\\python etc\\lib\\site-packages (from pyasn1-modules>=0.2.1->google-auth>=1.0.1->kubernetes>=28.1.0->chromadb->-r require.txt (line 3)) (0.4.8)\n"
     ]
    }
   ],
   "source": [
    "!cd\n",
    "!pip install -r require.txt"
   ]
  },
  {
   "cell_type": "code",
   "execution_count": 28,
   "metadata": {},
   "outputs": [
    {
     "name": "stdout",
     "output_type": "stream",
     "text": [
      "AQVNxR5vPv-B0uzNJTtvnc28vZLbP2TKu6k9fPTg\n",
      "API Key: AQVNxR5vPv-B0uzNJTtvnc28vZLbP2TKu6k9fPTg\n",
      "Folder ID: b1g4g4a90jln1j686ud9\n"
     ]
    }
   ],
   "source": [
    "import os\n",
    "import glob\n",
    "import json\n",
    "import chromadb\n",
    "\n",
    "from langchain_community.document_loaders import TextLoader\n",
    "from langchain.chains import StuffDocumentsChain, LLMChain\n",
    "from langchain_core.prompts import PromptTemplate\n",
    "from langchain.docstore.document import Document\n",
    "\n",
    "%reload_ext dotenv\n",
    "%dotenv\n",
    "\n",
    "%run YandexLLM.ipynb\n",
    "%run YandexEmbeddings.ipynb\n",
    "\n",
    "api_key = os.getenv('YAGPT_API_KEY')\n",
    "folder_id = os.getenv('YA_FOLDER_ID')\n",
    "print(api_key)\n",
    "\n",
    "\n",
    "print(f\"API Key: {api_key}\")\n",
    "print(f\"Folder ID: {folder_id}\")"
   ]
  },
  {
   "cell_type": "code",
   "execution_count": 29,
   "metadata": {},
   "outputs": [],
   "source": [
    "embeding_model = YandexEmbeddings(api_key, folder_id)\n",
    "llm_model = YandexLLM(api_key=api_key, folder_id=folder_id)"
   ]
  },
  {
   "cell_type": "code",
   "execution_count": 30,
   "metadata": {},
   "outputs": [],
   "source": [
    "doc_files = glob.glob('C:\\LLM\\data_texts\\*.txt')\n",
    "\n",
    "doc_texts = []\n",
    "\n",
    "\n",
    "\n",
    "for file_name in doc_files:\n",
    "    data = open(file_name, \"r\").read()\n",
    "    doc_texts.append(data)\n",
    "\n",
    "# for doc in doc_texts:\n",
    "#     result = embeding_model.embed_documents(doc)\n",
    "#     print(result)\n",
    "\n",
    "doc_embeddings = []\n",
    "for doc in doc_texts:\n",
    "    doc_embeddings.append(json.loads(embeding_model.embed_documents(doc))[\"embedding\"])\n",
    "\n",
    "# print(len(doc_embeddings))"
   ]
  },
  {
   "cell_type": "code",
   "execution_count": 31,
   "metadata": {},
   "outputs": [],
   "source": [
    "# client.delete_collection(\"InternalDocs\")"
   ]
  },
  {
   "cell_type": "code",
   "execution_count": 32,
   "metadata": {},
   "outputs": [
    {
     "name": "stderr",
     "output_type": "stream",
     "text": [
      "Insert of existing embedding ID: id1\n",
      "Insert of existing embedding ID: id2\n",
      "Add of existing embedding ID: id1\n",
      "Add of existing embedding ID: id2\n"
     ]
    }
   ],
   "source": [
    "client = chromadb.Client()\n",
    "\n",
    "collection = client.get_or_create_collection(name=\"InternalDocs\")\n",
    "\n",
    "\n",
    "collection.add(\n",
    "    embeddings = doc_embeddings,\n",
    "    documents = [doc_texts[0], doc_texts[1]],\n",
    "    metadatas = [{\"source\": \"register_account\"},{\"source\": \"vocation_request\"}],\n",
    "    ids = [\"id1\", \"id2\"]\n",
    ")"
   ]
  },
  {
   "cell_type": "code",
   "execution_count": 33,
   "metadata": {},
   "outputs": [],
   "source": [
    "query = \"Как пройти собеседование на позицию Junior Data Scientist?\"\n",
    "\n",
    "query_embedding = json.loads(embeding_model.embed_query(query))[\"embedding\"]\n",
    "\n",
    "relevant_doc = collection.query(\n",
    "    query_embeddings=query_embedding,\n",
    "    n_results=1\n",
    ")\n",
    "\n",
    "relevant_doc_lgch =  [Document(page_content=relevant_doc['documents'][0][0], metadata=relevant_doc['metadatas'][0][0])]"
   ]
  },
  {
   "cell_type": "code",
   "execution_count": 34,
   "metadata": {},
   "outputs": [],
   "source": [
    "# page_content - is a key in langchain data type \"Document\", where to langchain expect find raw text\n",
    "document_template = PromptTemplate(\n",
    "    input_variables=[\"page_content\"], #A list of the names of the variables.\n",
    "    template=\"{page_content}\" # The document template.\n",
    ")\n",
    "\n",
    "# The variable name where to put document in final prompt.\n",
    "document_variable_name = \"context\"\n",
    "\n",
    "# Template for prompt\n",
    "template_override = \"\"\"\n",
    "    Представь что ты сотрудник компании MyApp.\n",
    "    Пожалуйста, посмотри на текст ниже и ответь на вопрос, используя информацию из этого текста.\n",
    "    Текст:\n",
    "    -----\n",
    "    {context}\n",
    "    -----\n",
    "    Вопрос:\n",
    "    {query}\n",
    "\"\"\"\n",
    "\n",
    "# create prompt\n",
    "prompt = PromptTemplate(\n",
    "    input_variables=[\"context\", \"query\"],\n",
    "    template=template_override\n",
    ")"
   ]
  },
  {
   "cell_type": "code",
   "execution_count": 35,
   "metadata": {},
   "outputs": [],
   "source": [
    "llm_chain = LLMChain(llm=llm_model, prompt=prompt)\n",
    "\n",
    "chain = StuffDocumentsChain(\n",
    "    llm_chain=llm_chain,\n",
    "    document_prompt=document_template,\n",
    "    document_variable_name=document_variable_name\n",
    ")"
   ]
  },
  {
   "cell_type": "code",
   "execution_count": 36,
   "metadata": {},
   "outputs": [
    {
     "name": "stdout",
     "output_type": "stream",
     "text": [
      "**Вот как можно ответить на вопрос о том, как пройти собеседование на позицию Junior Data Scientist, используя информацию из предложенного текста:**\n",
      "\n",
      "Здравствуйте!\n",
      "\n",
      "Я уверен(а), что могу внести значительный вклад в развитие вашей компании в качестве Junior Data Scientist благодаря своим знаниям и навыкам в области искусственного интеллекта и анализа данных. Вот как я могу это сделать:\n",
      "\n",
      "1. **Понимание основ искусственного интеллекта:** Я хорошо разбираюсь в основных понятиях и принципах искусственного интеллекта, включая машинное обучение, нейронные сети и глубокое обучение. Я понимаю, как эти технологии могут быть применены для решения различных задач.\n",
      "\n",
      "2. **Опыт работы с данными:** У меня есть опыт работы с большими объёмами данных и инструментами для их анализа. Я умею извлекать полезную информацию из данных и использовать её для принятия решений.\n",
      "\n",
      "3. **Знание методов обработки естественного языка:** Я знаком(а) с методами обработки естественного языка (NLP), которые позволяют компьютерам понимать и генерировать человеческий язык. Это может быть полезно для создания систем, способных взаимодействовать с людьми на естественном языке.\n",
      "\n",
      "4. **Понимание этических аспектов:** Я осознаю важность этических вопросов, связанных с развитием искусственного интеллекта. Я понимаю, что необходимо учитывать такие аспекты, как конфиденциальность данных, замещение рабочих мест и потенциальное использование ИИ во вред.\n",
      "\n",
      "5. **Готовность к обучению:** Я готов(а) постоянно учиться и развиваться в области Data Science. Я понимаю, что эта область быстро развивается, и мне нужно быть в курсе последних тенденций и методов.\n",
      "\n",
      "6. **Примеры проектов:** Я могу привести примеры своих проектов, в которых я использовал(а) методы Data Science для решения реальных задач. Это поможет вам оценить мой опыт и навыки.\n",
      "\n",
      "7. **Вопросы к интервьюеру:** Я подготовился(ась) к собеседованию, изучив информацию о вашей компании и её проектах. Я могу задать вопросы, которые покажут, что я заинтересован(а) в работе в вашей компании и готов(а) внести свой вклад в её успех.\n",
      "\n",
      "8. **Готовность к командной работе:** Я понимаю, что Data Scientist часто работает в команде. Я готов(а) сотрудничать с другими специалистами и делиться своими знаниями и опытом.\n",
      "\n",
      "9. **Решение проблем:** Я умею анализировать проблемы и находить оптимальные решения. Я не боюсь сложных задач и готов(а) преодолевать трудности.\n",
      "\n",
      "10. **Стремление к инновациям:** Я всегда ищу новые идеи и подходы к решению задач. Я готов(а) вносить свой вклад в разработку новых продуктов и услуг.\n",
      "\n",
      "В заключение, я уверен(а), что мои знания и навыки в области искусственного интеллекта, анализа данных и обработки естественного языка позволят мне успешно работать в качестве Junior Data Scientist. Я готов(а) учиться и развиваться, чтобы стать ценным членом вашей команды.\n"
     ]
    }
   ],
   "source": [
    "result = chain.run(input_documents=relevant_doc_lgch, query=query)\n",
    "print(result)"
   ]
  }
 ],
 "metadata": {
  "kernelspec": {
   "display_name": "base",
   "language": "python",
   "name": "python3"
  },
  "language_info": {
   "codemirror_mode": {
    "name": "ipython",
    "version": 3
   },
   "file_extension": ".py",
   "mimetype": "text/x-python",
   "name": "python",
   "nbconvert_exporter": "python",
   "pygments_lexer": "ipython3",
   "version": "3.9.13"
  }
 },
 "nbformat": 4,
 "nbformat_minor": 2
}
